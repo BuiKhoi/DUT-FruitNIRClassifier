{
 "cells": [
  {
   "cell_type": "code",
   "execution_count": 12,
   "metadata": {},
   "outputs": [],
   "source": [
    "import keras\n",
    "import keras.backend as K\n",
    "from keras.layers import Conv1D, BatchNormalization, Activation, DepthwiseConv2D, Add, Input\n",
    "from keras.models import Model"
   ]
  },
  {
   "cell_type": "code",
   "execution_count": 16,
   "metadata": {},
   "outputs": [],
   "source": [
    "def relu6(x):\n",
    "    return K.relu(x, max_value=6.0)"
   ]
  },
  {
   "cell_type": "code",
   "execution_count": 23,
   "metadata": {},
   "outputs": [],
   "source": [
    "def bottleneck_layer(inputs, filters, kernel, t, alpha, s, r=False):\n",
    "    \n",
    "    tchannel = K.int_shape(inputs)[channel_axis] * t\n",
    "    cchannel = int(filters * alpha)\n",
    "    \n",
    "    m = Conv1D(expand, 1, padding='same')(inputs)\n",
    "    m = BatchNormalization()(m)\n",
    "    m = Activation(relu6)(m)\n",
    "    m = Conv1D(kernel, s, padding='same')(m)\n",
    "    m = BatchNormalization()(m)\n",
    "    m = Activation(relu6)(m)\n",
    "    m = Conv1D(squeeze, 1, padding='same')(m)\n",
    "    m = BatchNormalization()(m)\n",
    "    \n",
    "    return Add()([m, inputs])"
   ]
  },
  {
   "cell_type": "code",
   "execution_count": 38,
   "metadata": {},
   "outputs": [],
   "source": [
    "def mobilenet_based_model(input_shape = (224, 3)):\n",
    "    inpt = Input(input_shape)\n",
    "    \n",
    "    cnv1 = Conv1D(32, 1, padding='same')(inpt)\n",
    "    bnk1 = bottleneck_layer(cnv1, 64, 32)\n",
    "    \n",
    "    return Model(inpt, bnk1)"
   ]
  },
  {
   "cell_type": "code",
   "execution_count": 39,
   "metadata": {},
   "outputs": [
    {
     "name": "stdout",
     "output_type": "stream",
     "text": [
      "Model: \"model_3\"\n",
      "__________________________________________________________________________________________________\n",
      "Layer (type)                    Output Shape         Param #     Connected to                     \n",
      "==================================================================================================\n",
      "input_13 (InputLayer)           (None, 224, 3)       0                                            \n",
      "__________________________________________________________________________________________________\n",
      "conv1d_31 (Conv1D)              (None, 224, 32)      128         input_13[0][0]                   \n",
      "__________________________________________________________________________________________________\n",
      "conv1d_32 (Conv1D)              (None, 224, 64)      2112        conv1d_31[0][0]                  \n",
      "__________________________________________________________________________________________________\n",
      "batch_normalization_24 (BatchNo (None, 224, 64)      256         conv1d_32[0][0]                  \n",
      "__________________________________________________________________________________________________\n",
      "activation_17 (Activation)      (None, 224, 64)      0           batch_normalization_24[0][0]     \n",
      "__________________________________________________________________________________________________\n",
      "conv1d_33 (Conv1D)              (None, 224, 64)      12352       activation_17[0][0]              \n",
      "__________________________________________________________________________________________________\n",
      "batch_normalization_25 (BatchNo (None, 224, 64)      256         conv1d_33[0][0]                  \n",
      "__________________________________________________________________________________________________\n",
      "activation_18 (Activation)      (None, 224, 64)      0           batch_normalization_25[0][0]     \n",
      "__________________________________________________________________________________________________\n",
      "conv1d_34 (Conv1D)              (None, 224, 32)      2080        activation_18[0][0]              \n",
      "__________________________________________________________________________________________________\n",
      "batch_normalization_26 (BatchNo (None, 224, 32)      128         conv1d_34[0][0]                  \n",
      "__________________________________________________________________________________________________\n",
      "add_7 (Add)                     (None, 224, 32)      0           batch_normalization_26[0][0]     \n",
      "                                                                 conv1d_31[0][0]                  \n",
      "==================================================================================================\n",
      "Total params: 17,312\n",
      "Trainable params: 16,992\n",
      "Non-trainable params: 320\n",
      "__________________________________________________________________________________________________\n"
     ]
    }
   ],
   "source": [
    "model = mobilenet_based_model()\n",
    "model.summary()"
   ]
  },
  {
   "cell_type": "code",
   "execution_count": null,
   "metadata": {},
   "outputs": [],
   "source": []
  }
 ],
 "metadata": {
  "kernelspec": {
   "display_name": "Python 3",
   "language": "python",
   "name": "python3"
  },
  "language_info": {
   "codemirror_mode": {
    "name": "ipython",
    "version": 3
   },
   "file_extension": ".py",
   "mimetype": "text/x-python",
   "name": "python",
   "nbconvert_exporter": "python",
   "pygments_lexer": "ipython3",
   "version": "3.6.9"
  }
 },
 "nbformat": 4,
 "nbformat_minor": 2
}
